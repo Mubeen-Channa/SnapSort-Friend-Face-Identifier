{
 "cells": [
  {
   "cell_type": "markdown",
   "id": "fb84089b",
   "metadata": {},
   "source": [
    "# Smart Gallary \n",
    "#### Face Grouping Machine Learning Model"
   ]
  },
  {
   "cell_type": "markdown",
   "id": "f7d29f51",
   "metadata": {},
   "source": [
    "##### Import Libraries"
   ]
  }
 ],
 "metadata": {
  "kernelspec": {
   "display_name": "Python 3",
   "language": "python",
   "name": "python3"
  },
  "language_info": {
   "codemirror_mode": {
    "name": "ipython",
    "version": 3
   },
   "file_extension": ".py",
   "mimetype": "text/x-python",
   "name": "python",
   "nbconvert_exporter": "python",
   "pygments_lexer": "ipython3",
   "version": "3.13.1"
  }
 },
 "nbformat": 4,
 "nbformat_minor": 5
}
