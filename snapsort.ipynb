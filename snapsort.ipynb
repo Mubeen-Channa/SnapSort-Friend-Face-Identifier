{
 "cells": [
  {
   "cell_type": "markdown",
   "id": "fb84089b",
   "metadata": {},
   "source": [
    "# Smart Gallary \n",
    "### Person Classification Machine Learning Model"
   ]
  },
  {
   "cell_type": "markdown",
   "id": "f7d29f51",
   "metadata": {},
   "source": [
    "##### Import Libraries"
   ]
  },
  {
   "cell_type": "code",
   "execution_count": 1,
   "id": "4cd6035c",
   "metadata": {},
   "outputs": [],
   "source": [
    "import pandas as pd\n",
    "import numpy  as np\n",
    "import os\n",
    "import cv2\n",
    "import matplotlib.pyplot as plot"
   ]
  },
  {
   "cell_type": "markdown",
   "id": "63e92650",
   "metadata": {},
   "source": [
    "##### Define Catogaries and Path of Dataset "
   ]
  },
  {
   "cell_type": "code",
   "execution_count": 4,
   "id": "40257e48",
   "metadata": {},
   "outputs": [],
   "source": [
    "# Path for Images\n",
    "dir = 'C:\\\\Users\\\\Khushkuro\\\\Desktop\\\\SnapSort-Friend-Face-Identifier\\\\public\\\\dataset'\n",
    "\n",
    "categories = ['friend1','friend2','friend3','friend4','friend5']\n",
    "\n",
    "for category in categories:\n",
    "    path = os.path.join(dir, category)\n",
    "\n",
    "    for img in os.listdir(path):\n",
    "        imgpath = os.path.join(path, img)\n",
    "        friend1 = cv2.imread(imgpath,0)\n",
    "        cv2.imshow('image', friend1)\n",
    "        break\n",
    "    break\n",
    "\n",
    "cv2.waitKey(0)\n",
    "cv2.destroyAllWindows()\n"
   ]
  }
 ],
 "metadata": {
  "kernelspec": {
   "display_name": "Python 3",
   "language": "python",
   "name": "python3"
  },
  "language_info": {
   "codemirror_mode": {
    "name": "ipython",
    "version": 3
   },
   "file_extension": ".py",
   "mimetype": "text/x-python",
   "name": "python",
   "nbconvert_exporter": "python",
   "pygments_lexer": "ipython3",
   "version": "3.13.1"
  }
 },
 "nbformat": 4,
 "nbformat_minor": 5
}
